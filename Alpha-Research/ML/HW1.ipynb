{
 "cells": [
  {
   "cell_type": "code",
   "execution_count": 1,
   "metadata": {},
   "outputs": [
    {
     "name": "stdout",
     "output_type": "stream",
     "text": [
      "數據集形狀: (31878, 44)\n",
      "\n",
      "數據集前5行:\n"
     ]
    },
    {
     "data": {
      "text/html": [
       "<div>\n",
       "<style scoped>\n",
       "    .dataframe tbody tr th:only-of-type {\n",
       "        vertical-align: middle;\n",
       "    }\n",
       "\n",
       "    .dataframe tbody tr th {\n",
       "        vertical-align: top;\n",
       "    }\n",
       "\n",
       "    .dataframe thead th {\n",
       "        text-align: right;\n",
       "    }\n",
       "</style>\n",
       "<table border=\"1\" class=\"dataframe\">\n",
       "  <thead>\n",
       "    <tr style=\"text-align: right;\">\n",
       "      <th></th>\n",
       "      <th>symbol</th>\n",
       "      <th>open_time</th>\n",
       "      <th>open</th>\n",
       "      <th>high</th>\n",
       "      <th>low</th>\n",
       "      <th>close</th>\n",
       "      <th>volume</th>\n",
       "      <th>quote_asset_volume</th>\n",
       "      <th>number_of_trades</th>\n",
       "      <th>taker_buy_base_asset_volume</th>\n",
       "      <th>...</th>\n",
       "      <th>ema_14</th>\n",
       "      <th>ema_30</th>\n",
       "      <th>ema_90</th>\n",
       "      <th>atr_7</th>\n",
       "      <th>atr_14</th>\n",
       "      <th>atr_21</th>\n",
       "      <th>macd_line</th>\n",
       "      <th>macd_signal</th>\n",
       "      <th>macd_histogram</th>\n",
       "      <th>alpha1</th>\n",
       "    </tr>\n",
       "  </thead>\n",
       "  <tbody>\n",
       "    <tr>\n",
       "      <th>0</th>\n",
       "      <td>AAVEUSDT</td>\n",
       "      <td>2021-01-01</td>\n",
       "      <td>88.581</td>\n",
       "      <td>91.000</td>\n",
       "      <td>84.652</td>\n",
       "      <td>90.909</td>\n",
       "      <td>368132.6</td>\n",
       "      <td>3.236081e+07</td>\n",
       "      <td>95220</td>\n",
       "      <td>160420.1</td>\n",
       "      <td>...</td>\n",
       "      <td>NaN</td>\n",
       "      <td>NaN</td>\n",
       "      <td>90.909000</td>\n",
       "      <td>NaN</td>\n",
       "      <td>NaN</td>\n",
       "      <td>NaN</td>\n",
       "      <td>0.000000</td>\n",
       "      <td>0.000000</td>\n",
       "      <td>0.000000</td>\n",
       "      <td>NaN</td>\n",
       "    </tr>\n",
       "    <tr>\n",
       "      <th>1</th>\n",
       "      <td>AAVEUSDT</td>\n",
       "      <td>2021-01-02</td>\n",
       "      <td>90.940</td>\n",
       "      <td>92.200</td>\n",
       "      <td>82.573</td>\n",
       "      <td>85.888</td>\n",
       "      <td>350675.1</td>\n",
       "      <td>3.019238e+07</td>\n",
       "      <td>96482</td>\n",
       "      <td>141557.9</td>\n",
       "      <td>...</td>\n",
       "      <td>NaN</td>\n",
       "      <td>NaN</td>\n",
       "      <td>90.798648</td>\n",
       "      <td>NaN</td>\n",
       "      <td>NaN</td>\n",
       "      <td>NaN</td>\n",
       "      <td>-0.400536</td>\n",
       "      <td>-0.080107</td>\n",
       "      <td>-0.320428</td>\n",
       "      <td>NaN</td>\n",
       "    </tr>\n",
       "    <tr>\n",
       "      <th>2</th>\n",
       "      <td>AAVEUSDT</td>\n",
       "      <td>2021-01-03</td>\n",
       "      <td>85.911</td>\n",
       "      <td>95.680</td>\n",
       "      <td>81.338</td>\n",
       "      <td>94.185</td>\n",
       "      <td>490412.4</td>\n",
       "      <td>4.367915e+07</td>\n",
       "      <td>120659</td>\n",
       "      <td>219913.4</td>\n",
       "      <td>...</td>\n",
       "      <td>NaN</td>\n",
       "      <td>NaN</td>\n",
       "      <td>90.873074</td>\n",
       "      <td>NaN</td>\n",
       "      <td>NaN</td>\n",
       "      <td>NaN</td>\n",
       "      <td>-0.047912</td>\n",
       "      <td>-0.073668</td>\n",
       "      <td>0.025756</td>\n",
       "      <td>NaN</td>\n",
       "    </tr>\n",
       "    <tr>\n",
       "      <th>3</th>\n",
       "      <td>AAVEUSDT</td>\n",
       "      <td>2021-01-04</td>\n",
       "      <td>94.183</td>\n",
       "      <td>115.590</td>\n",
       "      <td>85.932</td>\n",
       "      <td>114.322</td>\n",
       "      <td>1108493.1</td>\n",
       "      <td>1.136470e+08</td>\n",
       "      <td>301713</td>\n",
       "      <td>514642.8</td>\n",
       "      <td>...</td>\n",
       "      <td>NaN</td>\n",
       "      <td>NaN</td>\n",
       "      <td>91.388435</td>\n",
       "      <td>NaN</td>\n",
       "      <td>NaN</td>\n",
       "      <td>NaN</td>\n",
       "      <td>1.835276</td>\n",
       "      <td>0.308121</td>\n",
       "      <td>1.527155</td>\n",
       "      <td>NaN</td>\n",
       "    </tr>\n",
       "    <tr>\n",
       "      <th>4</th>\n",
       "      <td>AAVEUSDT</td>\n",
       "      <td>2021-01-05</td>\n",
       "      <td>114.344</td>\n",
       "      <td>124.279</td>\n",
       "      <td>98.653</td>\n",
       "      <td>119.800</td>\n",
       "      <td>843809.1</td>\n",
       "      <td>9.551636e+07</td>\n",
       "      <td>271640</td>\n",
       "      <td>385402.1</td>\n",
       "      <td>...</td>\n",
       "      <td>NaN</td>\n",
       "      <td>NaN</td>\n",
       "      <td>92.012865</td>\n",
       "      <td>NaN</td>\n",
       "      <td>NaN</td>\n",
       "      <td>NaN</td>\n",
       "      <td>3.726785</td>\n",
       "      <td>0.991854</td>\n",
       "      <td>2.734932</td>\n",
       "      <td>NaN</td>\n",
       "    </tr>\n",
       "  </tbody>\n",
       "</table>\n",
       "<p>5 rows × 44 columns</p>\n",
       "</div>"
      ],
      "text/plain": [
       "     symbol  open_time     open     high     low    close     volume  \\\n",
       "0  AAVEUSDT 2021-01-01   88.581   91.000  84.652   90.909   368132.6   \n",
       "1  AAVEUSDT 2021-01-02   90.940   92.200  82.573   85.888   350675.1   \n",
       "2  AAVEUSDT 2021-01-03   85.911   95.680  81.338   94.185   490412.4   \n",
       "3  AAVEUSDT 2021-01-04   94.183  115.590  85.932  114.322  1108493.1   \n",
       "4  AAVEUSDT 2021-01-05  114.344  124.279  98.653  119.800   843809.1   \n",
       "\n",
       "   quote_asset_volume  number_of_trades  taker_buy_base_asset_volume  ...  \\\n",
       "0        3.236081e+07             95220                     160420.1  ...   \n",
       "1        3.019238e+07             96482                     141557.9  ...   \n",
       "2        4.367915e+07            120659                     219913.4  ...   \n",
       "3        1.136470e+08            301713                     514642.8  ...   \n",
       "4        9.551636e+07            271640                     385402.1  ...   \n",
       "\n",
       "   ema_14  ema_30     ema_90  atr_7  atr_14  atr_21  macd_line  macd_signal  \\\n",
       "0     NaN     NaN  90.909000    NaN     NaN     NaN   0.000000     0.000000   \n",
       "1     NaN     NaN  90.798648    NaN     NaN     NaN  -0.400536    -0.080107   \n",
       "2     NaN     NaN  90.873074    NaN     NaN     NaN  -0.047912    -0.073668   \n",
       "3     NaN     NaN  91.388435    NaN     NaN     NaN   1.835276     0.308121   \n",
       "4     NaN     NaN  92.012865    NaN     NaN     NaN   3.726785     0.991854   \n",
       "\n",
       "   macd_histogram  alpha1  \n",
       "0        0.000000     NaN  \n",
       "1       -0.320428     NaN  \n",
       "2        0.025756     NaN  \n",
       "3        1.527155     NaN  \n",
       "4        2.734932     NaN  \n",
       "\n",
       "[5 rows x 44 columns]"
      ]
     },
     "execution_count": 1,
     "metadata": {},
     "output_type": "execute_result"
    }
   ],
   "source": [
    "# 匯入所需的庫\n",
    "import pyarrow.parquet as pq\n",
    "import pandas as pd\n",
    "import numpy as np\n",
    "import matplotlib.pyplot as plt\n",
    "import seaborn as sns\n",
    "from sklearn.linear_model import LinearRegression\n",
    "from sklearn.metrics import mean_squared_error\n",
    "from scipy import stats\n",
    "\n",
    "# 讀取數據\n",
    "path = '/Users/mouyasushi/Desktop/Machine Learning /skl_cs/crypto/Alpha-Research/ML/agg_data.parquet'\n",
    "df = pq.read_table(path).to_pandas()\n",
    "print(f\"數據集形狀: {df.shape}\")\n",
    "print(\"\\n數據集前5行:\")\n",
    "df.head()\n",
    "\n"
   ]
  },
  {
   "cell_type": "code",
   "execution_count": 2,
   "metadata": {},
   "outputs": [
    {
     "data": {
      "text/plain": [
       "21"
      ]
     },
     "execution_count": 2,
     "metadata": {},
     "output_type": "execute_result"
    }
   ],
   "source": [
    "df['daily_return'].isnull().sum()"
   ]
  },
  {
   "cell_type": "code",
   "execution_count": 3,
   "metadata": {},
   "outputs": [],
   "source": [
    "df = df.dropna(subset=['daily_return'])\n",
    "df['open_time'] = pd.to_datetime(df['open_time'])\n"
   ]
  },
  {
   "cell_type": "code",
   "execution_count": 4,
   "metadata": {},
   "outputs": [],
   "source": [
    "feature_cols = ['open', 'high', 'low', 'close', 'volume',\n",
    "       'quote_asset_volume', 'number_of_trades', 'taker_buy_base_asset_volume',\n",
    "       'taker_buy_quote_asset_volume',\n",
    "       'volatility_7d', 'volatility_14d', 'volatility_30d', 'typical_price',\n",
    "       'tp_vol', 'vwap_7d', 'vwap_14d', 'vwap_30d', 'vwap_7d_diff',\n",
    "       'vwap_14d_diff', 'vwap_30d_diff', 'vwap_7d_trend',\n",
    "       'vwap_7d_trend_direction', 'vwap_14d_trend', 'vwap_14d_trend_direction',\n",
    "       'vwap_30d_trend', 'vwap_30d_trend_direction', 'rsi_7', 'rsi_14',\n",
    "       'rsi_21', 'ema_7', 'ema_14', 'ema_30', 'ema_90', 'atr_7', 'atr_14',\n",
    "       'atr_21', 'macd_line', 'macd_signal', 'macd_histogram', 'alpha1']\n",
    "\n",
    "target_col = 'daily_return'\n"
   ]
  },
  {
   "cell_type": "code",
   "execution_count": 5,
   "metadata": {},
   "outputs": [
    {
     "name": "stdout",
     "output_type": "stream",
     "text": [
      "\n",
      "缺失值情況:\n",
      "volatility_7d     126\n",
      "volatility_14d    273\n",
      "volatility_30d    609\n",
      "vwap_7d           105\n",
      "vwap_14d          252\n",
      "vwap_30d          588\n",
      "vwap_7d_diff      105\n",
      "vwap_14d_diff     252\n",
      "vwap_30d_diff     588\n",
      "vwap_7d_trend     126\n",
      "vwap_14d_trend    273\n",
      "vwap_30d_trend    609\n",
      "rsi_7             105\n",
      "rsi_14            252\n",
      "rsi_21            399\n",
      "ema_7             105\n",
      "ema_14            252\n",
      "ema_30            588\n",
      "atr_7             105\n",
      "atr_14            252\n",
      "atr_21            399\n",
      "alpha1            546\n",
      "dtype: int64\n"
     ]
    }
   ],
   "source": [
    "missing_values = df[feature_cols + [target_col]].isnull().sum()\n",
    "\n",
    "if missing_values.sum() > 0:\n",
    "    print(\"\\n缺失值情況:\")\n",
    "    print(missing_values[missing_values > 0])\n",
    "    # 填充缺失值或移除含缺失值的行\n",
    "    df = df.dropna(subset=feature_cols + [target_col])"
   ]
  },
  {
   "cell_type": "code",
   "execution_count": 6,
   "metadata": {},
   "outputs": [
    {
     "data": {
      "text/plain": [
       "31248"
      ]
     },
     "execution_count": 6,
     "metadata": {},
     "output_type": "execute_result"
    }
   ],
   "source": [
    "len(df)  # some row had droped \n"
   ]
  },
  {
   "cell_type": "markdown",
   "metadata": {},
   "source": [
    "check feature type "
   ]
  },
  {
   "cell_type": "code",
   "execution_count": 7,
   "metadata": {},
   "outputs": [
    {
     "data": {
      "text/plain": [
       "30         Up\n",
       "31         Up\n",
       "32         Up\n",
       "33         Up\n",
       "34         Up\n",
       "         ... \n",
       "31873    Down\n",
       "31874    Down\n",
       "31875    Down\n",
       "31876    Down\n",
       "31877    Down\n",
       "Name: vwap_7d_trend_direction, Length: 31248, dtype: object"
      ]
     },
     "execution_count": 7,
     "metadata": {},
     "output_type": "execute_result"
    }
   ],
   "source": [
    "df['vwap_7d_trend_direction']"
   ]
  },
  {
   "cell_type": "code",
   "execution_count": 8,
   "metadata": {},
   "outputs": [
    {
     "name": "stdout",
     "output_type": "stream",
     "text": [
      "col 'vwap_7d_trend_direction': object\n",
      "  unique val: ['Up' 'Down']... (tot2個)\n",
      "  Non numerical data!\n",
      "col 'vwap_14d_trend_direction': object\n",
      "  unique val: ['Up' 'Down']... (tot2個)\n",
      "  Non numerical data!\n",
      "col 'vwap_30d_trend_direction': object\n",
      "  unique val: ['Up' 'Down']... (tot2個)\n",
      "  Non numerical data!\n"
     ]
    }
   ],
   "source": [
    "# 檢查每個特徵欄位的數據類型\n",
    "for col in feature_cols:\n",
    "    unique_values = df[col].unique()\n",
    "    if df[col].dtype == 'object' or 'str' in str(df[col].dtype):\n",
    "        print(f\"col '{col}': {df[col].dtype}\")\n",
    "        print(f\"  unique val: {unique_values[:5]}... (tot{len(unique_values)}個)\")\n",
    "        print(f\"  Non numerical data!\")"
   ]
  },
  {
   "cell_type": "code",
   "execution_count": 9,
   "metadata": {},
   "outputs": [
    {
     "name": "stdout",
     "output_type": "stream",
     "text": [
      "vwap_7d_trend_direction\n",
      "0    15710\n",
      "1    15538\n",
      "Name: count, dtype: int64\n"
     ]
    }
   ],
   "source": [
    "trend_mapping = {\n",
    "    'Up': 1,\n",
    "    'Down': 0,\n",
    "}\n",
    "\n",
    "# 直接將包含 'Up'/'Down' 的列映射到數值\n",
    "df['vwap_7d_trend_direction'] = df['vwap_7d_trend_direction'].map(trend_mapping)\n",
    "df['vwap_14d_trend_direction'] = df['vwap_14d_trend_direction'].map(trend_mapping)\n",
    "df['vwap_30d_trend_direction'] = df['vwap_30d_trend_direction'].map(trend_mapping)\n",
    "\n",
    "# 檢查結果\n",
    "print(df['vwap_7d_trend_direction'].value_counts())"
   ]
  },
  {
   "cell_type": "markdown",
   "metadata": {},
   "source": [
    "# after dropping Nan values \n",
    "\n",
    "- train : 2021/01/31 - 2024/10/01  \n",
    "    - 28140\n",
    "- test : 2024/10/2 - 2025/02/26 \n",
    "    - 3108 "
   ]
  },
  {
   "cell_type": "code",
   "execution_count": 10,
   "metadata": {},
   "outputs": [
    {
     "name": "stdout",
     "output_type": "stream",
     "text": [
      "\n",
      "訓練集形狀: (28140, 44)\n",
      "測試集形狀: (3108, 44)\n"
     ]
    },
    {
     "data": {
      "text/html": [
       "<div>\n",
       "<style scoped>\n",
       "    .dataframe tbody tr th:only-of-type {\n",
       "        vertical-align: middle;\n",
       "    }\n",
       "\n",
       "    .dataframe tbody tr th {\n",
       "        vertical-align: top;\n",
       "    }\n",
       "\n",
       "    .dataframe thead th {\n",
       "        text-align: right;\n",
       "    }\n",
       "</style>\n",
       "<table border=\"1\" class=\"dataframe\">\n",
       "  <thead>\n",
       "    <tr style=\"text-align: right;\">\n",
       "      <th></th>\n",
       "      <th>symbol</th>\n",
       "      <th>open_time</th>\n",
       "      <th>open</th>\n",
       "      <th>high</th>\n",
       "      <th>low</th>\n",
       "      <th>close</th>\n",
       "      <th>volume</th>\n",
       "      <th>quote_asset_volume</th>\n",
       "      <th>number_of_trades</th>\n",
       "      <th>taker_buy_base_asset_volume</th>\n",
       "      <th>...</th>\n",
       "      <th>ema_14</th>\n",
       "      <th>ema_30</th>\n",
       "      <th>ema_90</th>\n",
       "      <th>atr_7</th>\n",
       "      <th>atr_14</th>\n",
       "      <th>atr_21</th>\n",
       "      <th>macd_line</th>\n",
       "      <th>macd_signal</th>\n",
       "      <th>macd_histogram</th>\n",
       "      <th>alpha1</th>\n",
       "    </tr>\n",
       "  </thead>\n",
       "  <tbody>\n",
       "    <tr>\n",
       "      <th>1370</th>\n",
       "      <td>AAVEUSDT</td>\n",
       "      <td>2024-10-02</td>\n",
       "      <td>144.71</td>\n",
       "      <td>150.13</td>\n",
       "      <td>136.70</td>\n",
       "      <td>139.06</td>\n",
       "      <td>1262141.1</td>\n",
       "      <td>1.803299e+08</td>\n",
       "      <td>613522</td>\n",
       "      <td>613203.4</td>\n",
       "      <td>...</td>\n",
       "      <td>154.104280</td>\n",
       "      <td>147.825094</td>\n",
       "      <td>127.531782</td>\n",
       "      <td>11.503710</td>\n",
       "      <td>11.084559</td>\n",
       "      <td>10.827651</td>\n",
       "      <td>4.727082</td>\n",
       "      <td>7.823684</td>\n",
       "      <td>-3.096602</td>\n",
       "      <td>-0.120399</td>\n",
       "    </tr>\n",
       "    <tr>\n",
       "      <th>1371</th>\n",
       "      <td>AAVEUSDT</td>\n",
       "      <td>2024-10-03</td>\n",
       "      <td>139.07</td>\n",
       "      <td>146.84</td>\n",
       "      <td>134.56</td>\n",
       "      <td>143.60</td>\n",
       "      <td>1822593.2</td>\n",
       "      <td>2.561171e+08</td>\n",
       "      <td>799074</td>\n",
       "      <td>924365.4</td>\n",
       "      <td>...</td>\n",
       "      <td>152.703709</td>\n",
       "      <td>147.552507</td>\n",
       "      <td>127.884930</td>\n",
       "      <td>11.614609</td>\n",
       "      <td>11.169948</td>\n",
       "      <td>10.896810</td>\n",
       "      <td>3.518472</td>\n",
       "      <td>6.962642</td>\n",
       "      <td>-3.444170</td>\n",
       "      <td>-0.066105</td>\n",
       "    </tr>\n",
       "    <tr>\n",
       "      <th>1372</th>\n",
       "      <td>AAVEUSDT</td>\n",
       "      <td>2024-10-04</td>\n",
       "      <td>143.60</td>\n",
       "      <td>152.78</td>\n",
       "      <td>141.42</td>\n",
       "      <td>151.23</td>\n",
       "      <td>1512159.6</td>\n",
       "      <td>2.244012e+08</td>\n",
       "      <td>704977</td>\n",
       "      <td>737650.6</td>\n",
       "      <td>...</td>\n",
       "      <td>152.507215</td>\n",
       "      <td>147.789764</td>\n",
       "      <td>128.398008</td>\n",
       "      <td>11.578236</td>\n",
       "      <td>11.183523</td>\n",
       "      <td>10.918867</td>\n",
       "      <td>3.140120</td>\n",
       "      <td>6.198137</td>\n",
       "      <td>-3.058018</td>\n",
       "      <td>0.047292</td>\n",
       "    </tr>\n",
       "    <tr>\n",
       "      <th>1373</th>\n",
       "      <td>AAVEUSDT</td>\n",
       "      <td>2024-10-05</td>\n",
       "      <td>151.22</td>\n",
       "      <td>151.77</td>\n",
       "      <td>145.92</td>\n",
       "      <td>148.39</td>\n",
       "      <td>495936.9</td>\n",
       "      <td>7.398844e+07</td>\n",
       "      <td>277973</td>\n",
       "      <td>234834.1</td>\n",
       "      <td>...</td>\n",
       "      <td>151.958253</td>\n",
       "      <td>147.828489</td>\n",
       "      <td>128.837393</td>\n",
       "      <td>10.759917</td>\n",
       "      <td>10.802557</td>\n",
       "      <td>10.677492</td>\n",
       "      <td>2.581352</td>\n",
       "      <td>5.474780</td>\n",
       "      <td>-2.893428</td>\n",
       "      <td>0.123391</td>\n",
       "    </tr>\n",
       "    <tr>\n",
       "      <th>1374</th>\n",
       "      <td>AAVEUSDT</td>\n",
       "      <td>2024-10-06</td>\n",
       "      <td>148.40</td>\n",
       "      <td>150.50</td>\n",
       "      <td>146.10</td>\n",
       "      <td>150.06</td>\n",
       "      <td>508739.8</td>\n",
       "      <td>7.539962e+07</td>\n",
       "      <td>273963</td>\n",
       "      <td>243435.6</td>\n",
       "      <td>...</td>\n",
       "      <td>151.705152</td>\n",
       "      <td>147.972458</td>\n",
       "      <td>129.303824</td>\n",
       "      <td>9.851357</td>\n",
       "      <td>10.345232</td>\n",
       "      <td>10.378564</td>\n",
       "      <td>2.247374</td>\n",
       "      <td>4.829299</td>\n",
       "      <td>-2.581925</td>\n",
       "      <td>0.221132</td>\n",
       "    </tr>\n",
       "    <tr>\n",
       "      <th>...</th>\n",
       "      <td>...</td>\n",
       "      <td>...</td>\n",
       "      <td>...</td>\n",
       "      <td>...</td>\n",
       "      <td>...</td>\n",
       "      <td>...</td>\n",
       "      <td>...</td>\n",
       "      <td>...</td>\n",
       "      <td>...</td>\n",
       "      <td>...</td>\n",
       "      <td>...</td>\n",
       "      <td>...</td>\n",
       "      <td>...</td>\n",
       "      <td>...</td>\n",
       "      <td>...</td>\n",
       "      <td>...</td>\n",
       "      <td>...</td>\n",
       "      <td>...</td>\n",
       "      <td>...</td>\n",
       "      <td>...</td>\n",
       "      <td>...</td>\n",
       "    </tr>\n",
       "    <tr>\n",
       "      <th>1513</th>\n",
       "      <td>AAVEUSDT</td>\n",
       "      <td>2025-02-22</td>\n",
       "      <td>242.59</td>\n",
       "      <td>251.49</td>\n",
       "      <td>238.80</td>\n",
       "      <td>246.98</td>\n",
       "      <td>493308.0</td>\n",
       "      <td>1.209052e+08</td>\n",
       "      <td>518534</td>\n",
       "      <td>240721.9</td>\n",
       "      <td>...</td>\n",
       "      <td>255.219303</td>\n",
       "      <td>268.048291</td>\n",
       "      <td>268.906077</td>\n",
       "      <td>20.337630</td>\n",
       "      <td>24.140974</td>\n",
       "      <td>26.136798</td>\n",
       "      <td>-11.266186</td>\n",
       "      <td>-12.934859</td>\n",
       "      <td>1.668673</td>\n",
       "      <td>0.242493</td>\n",
       "    </tr>\n",
       "    <tr>\n",
       "      <th>1514</th>\n",
       "      <td>AAVEUSDT</td>\n",
       "      <td>2025-02-23</td>\n",
       "      <td>246.97</td>\n",
       "      <td>254.16</td>\n",
       "      <td>242.83</td>\n",
       "      <td>247.49</td>\n",
       "      <td>376516.1</td>\n",
       "      <td>9.320594e+07</td>\n",
       "      <td>424164</td>\n",
       "      <td>179565.9</td>\n",
       "      <td>...</td>\n",
       "      <td>254.188729</td>\n",
       "      <td>266.721950</td>\n",
       "      <td>268.435394</td>\n",
       "      <td>19.050825</td>\n",
       "      <td>23.225905</td>\n",
       "      <td>25.431713</td>\n",
       "      <td>-10.938300</td>\n",
       "      <td>-12.535547</td>\n",
       "      <td>1.597248</td>\n",
       "      <td>0.171580</td>\n",
       "    </tr>\n",
       "    <tr>\n",
       "      <th>1515</th>\n",
       "      <td>AAVEUSDT</td>\n",
       "      <td>2025-02-24</td>\n",
       "      <td>247.50</td>\n",
       "      <td>249.20</td>\n",
       "      <td>205.00</td>\n",
       "      <td>210.63</td>\n",
       "      <td>1014514.9</td>\n",
       "      <td>2.303340e+08</td>\n",
       "      <td>903091</td>\n",
       "      <td>479693.3</td>\n",
       "      <td>...</td>\n",
       "      <td>248.380899</td>\n",
       "      <td>263.103115</td>\n",
       "      <td>267.164946</td>\n",
       "      <td>22.643565</td>\n",
       "      <td>24.724054</td>\n",
       "      <td>26.325441</td>\n",
       "      <td>-13.497155</td>\n",
       "      <td>-12.727869</td>\n",
       "      <td>-0.769286</td>\n",
       "      <td>0.200758</td>\n",
       "    </tr>\n",
       "    <tr>\n",
       "      <th>1516</th>\n",
       "      <td>AAVEUSDT</td>\n",
       "      <td>2025-02-25</td>\n",
       "      <td>210.62</td>\n",
       "      <td>213.46</td>\n",
       "      <td>189.37</td>\n",
       "      <td>205.04</td>\n",
       "      <td>1735893.4</td>\n",
       "      <td>3.460300e+08</td>\n",
       "      <td>1386922</td>\n",
       "      <td>853259.5</td>\n",
       "      <td>...</td>\n",
       "      <td>242.602112</td>\n",
       "      <td>259.357107</td>\n",
       "      <td>265.799562</td>\n",
       "      <td>22.850198</td>\n",
       "      <td>24.678765</td>\n",
       "      <td>26.218991</td>\n",
       "      <td>-15.794068</td>\n",
       "      <td>-13.341109</td>\n",
       "      <td>-2.452959</td>\n",
       "      <td>0.211044</td>\n",
       "    </tr>\n",
       "    <tr>\n",
       "      <th>1517</th>\n",
       "      <td>AAVEUSDT</td>\n",
       "      <td>2025-02-26</td>\n",
       "      <td>205.04</td>\n",
       "      <td>211.50</td>\n",
       "      <td>192.01</td>\n",
       "      <td>202.48</td>\n",
       "      <td>1280578.4</td>\n",
       "      <td>2.601829e+08</td>\n",
       "      <td>1043081</td>\n",
       "      <td>626022.7</td>\n",
       "      <td>...</td>\n",
       "      <td>237.252497</td>\n",
       "      <td>255.687616</td>\n",
       "      <td>264.407923</td>\n",
       "      <td>22.370170</td>\n",
       "      <td>24.308139</td>\n",
       "      <td>25.898563</td>\n",
       "      <td>-17.617871</td>\n",
       "      <td>-14.196461</td>\n",
       "      <td>-3.421410</td>\n",
       "      <td>0.066972</td>\n",
       "    </tr>\n",
       "  </tbody>\n",
       "</table>\n",
       "<p>148 rows × 44 columns</p>\n",
       "</div>"
      ],
      "text/plain": [
       "        symbol  open_time    open    high     low   close     volume  \\\n",
       "1370  AAVEUSDT 2024-10-02  144.71  150.13  136.70  139.06  1262141.1   \n",
       "1371  AAVEUSDT 2024-10-03  139.07  146.84  134.56  143.60  1822593.2   \n",
       "1372  AAVEUSDT 2024-10-04  143.60  152.78  141.42  151.23  1512159.6   \n",
       "1373  AAVEUSDT 2024-10-05  151.22  151.77  145.92  148.39   495936.9   \n",
       "1374  AAVEUSDT 2024-10-06  148.40  150.50  146.10  150.06   508739.8   \n",
       "...        ...        ...     ...     ...     ...     ...        ...   \n",
       "1513  AAVEUSDT 2025-02-22  242.59  251.49  238.80  246.98   493308.0   \n",
       "1514  AAVEUSDT 2025-02-23  246.97  254.16  242.83  247.49   376516.1   \n",
       "1515  AAVEUSDT 2025-02-24  247.50  249.20  205.00  210.63  1014514.9   \n",
       "1516  AAVEUSDT 2025-02-25  210.62  213.46  189.37  205.04  1735893.4   \n",
       "1517  AAVEUSDT 2025-02-26  205.04  211.50  192.01  202.48  1280578.4   \n",
       "\n",
       "      quote_asset_volume  number_of_trades  taker_buy_base_asset_volume  ...  \\\n",
       "1370        1.803299e+08            613522                     613203.4  ...   \n",
       "1371        2.561171e+08            799074                     924365.4  ...   \n",
       "1372        2.244012e+08            704977                     737650.6  ...   \n",
       "1373        7.398844e+07            277973                     234834.1  ...   \n",
       "1374        7.539962e+07            273963                     243435.6  ...   \n",
       "...                  ...               ...                          ...  ...   \n",
       "1513        1.209052e+08            518534                     240721.9  ...   \n",
       "1514        9.320594e+07            424164                     179565.9  ...   \n",
       "1515        2.303340e+08            903091                     479693.3  ...   \n",
       "1516        3.460300e+08           1386922                     853259.5  ...   \n",
       "1517        2.601829e+08           1043081                     626022.7  ...   \n",
       "\n",
       "          ema_14      ema_30      ema_90      atr_7     atr_14     atr_21  \\\n",
       "1370  154.104280  147.825094  127.531782  11.503710  11.084559  10.827651   \n",
       "1371  152.703709  147.552507  127.884930  11.614609  11.169948  10.896810   \n",
       "1372  152.507215  147.789764  128.398008  11.578236  11.183523  10.918867   \n",
       "1373  151.958253  147.828489  128.837393  10.759917  10.802557  10.677492   \n",
       "1374  151.705152  147.972458  129.303824   9.851357  10.345232  10.378564   \n",
       "...          ...         ...         ...        ...        ...        ...   \n",
       "1513  255.219303  268.048291  268.906077  20.337630  24.140974  26.136798   \n",
       "1514  254.188729  266.721950  268.435394  19.050825  23.225905  25.431713   \n",
       "1515  248.380899  263.103115  267.164946  22.643565  24.724054  26.325441   \n",
       "1516  242.602112  259.357107  265.799562  22.850198  24.678765  26.218991   \n",
       "1517  237.252497  255.687616  264.407923  22.370170  24.308139  25.898563   \n",
       "\n",
       "      macd_line  macd_signal  macd_histogram    alpha1  \n",
       "1370   4.727082     7.823684       -3.096602 -0.120399  \n",
       "1371   3.518472     6.962642       -3.444170 -0.066105  \n",
       "1372   3.140120     6.198137       -3.058018  0.047292  \n",
       "1373   2.581352     5.474780       -2.893428  0.123391  \n",
       "1374   2.247374     4.829299       -2.581925  0.221132  \n",
       "...         ...          ...             ...       ...  \n",
       "1513 -11.266186   -12.934859        1.668673  0.242493  \n",
       "1514 -10.938300   -12.535547        1.597248  0.171580  \n",
       "1515 -13.497155   -12.727869       -0.769286  0.200758  \n",
       "1516 -15.794068   -13.341109       -2.452959  0.211044  \n",
       "1517 -17.617871   -14.196461       -3.421410  0.066972  \n",
       "\n",
       "[148 rows x 44 columns]"
      ]
     },
     "execution_count": 10,
     "metadata": {},
     "output_type": "execute_result"
    }
   ],
   "source": [
    "\n",
    "cutoff_date = df['open_time'].sort_values().iloc[-int(len(df)/10)]  # 使用最後10%的數據作為測試集\n",
    "train_data = df[df['open_time'] <= cutoff_date]\n",
    "test_data = df[df['open_time'] > cutoff_date]\n",
    "\n",
    "print(f\"\\n訓練集形狀: {train_data.shape}\")\n",
    "print(f\"測試集形狀: {test_data.shape}\")\n",
    "\n",
    "test_data[test_data['symbol']=='AAVEUSDT']"
   ]
  },
  {
   "cell_type": "code",
   "execution_count": 11,
   "metadata": {},
   "outputs": [],
   "source": [
    "X_train = train_data[feature_cols].values\n",
    "y_train = train_data[target_col].values\n",
    "\n",
    "# 提取測試集的X和Y\n",
    "X_test = test_data[feature_cols].values\n",
    "y_test = test_data[target_col].values"
   ]
  },
  {
   "cell_type": "code",
   "execution_count": 12,
   "metadata": {},
   "outputs": [
    {
     "data": {
      "text/plain": [
       "array([[3.15445000e+02, 3.20596000e+02, 2.93000000e+02, ...,\n",
       "        3.95525712e+01, 7.92390973e+00, 7.41802343e-02],\n",
       "       [3.00021000e+02, 3.07127000e+02, 2.84000000e+02, ...,\n",
       "        4.09943627e+01, 5.76716581e+00, 5.08084795e-02],\n",
       "       [2.95422000e+02, 3.10380000e+02, 2.86000000e+02, ...,\n",
       "        4.20493081e+01, 4.21978156e+00, 5.08084795e-02],\n",
       "       ...,\n",
       "       [7.41000000e-01, 7.57000000e-01, 7.27000000e-01, ...,\n",
       "        1.31784641e-02, 9.64985350e-03, 2.71011064e-01],\n",
       "       [7.44000000e-01, 7.47000000e-01, 6.99000000e-01, ...,\n",
       "        1.46568113e-02, 5.91338872e-03, 1.92071008e-01],\n",
       "       [7.04000000e-01, 7.18000000e-01, 6.41000000e-01, ...,\n",
       "        1.46889117e-02, 1.28401822e-04, 1.55083115e-01]])"
      ]
     },
     "execution_count": 12,
     "metadata": {},
     "output_type": "execute_result"
    }
   ],
   "source": [
    "X_train"
   ]
  },
  {
   "cell_type": "markdown",
   "metadata": {},
   "source": [
    "RMSE train "
   ]
  },
  {
   "cell_type": "code",
   "execution_count": 13,
   "metadata": {},
   "outputs": [
    {
     "name": "stdout",
     "output_type": "stream",
     "text": [
      "\n",
      "trainRMSE: 0.0383\n"
     ]
    }
   ],
   "source": [
    "# 1. 使用訓練集進行回歸並計算RMSEtrain、杠桿分數hii和留一法預測差異\n",
    "# 訓練模型\n",
    "model = LinearRegression()\n",
    "model.fit(X_train, y_train)\n",
    "\n",
    "# 訓練集預測\n",
    "y_pred_train = model.predict(X_train)\n",
    "\n",
    "# 計算訓練集RMSE ( root mean square error)\n",
    "rmse_train = np.sqrt(mean_squared_error(y_train, y_pred_train))\n",
    "print(f\"\\ntrainRMSE: {rmse_train:.4f}\")\n",
    "\n"
   ]
  },
  {
   "cell_type": "markdown",
   "metadata": {},
   "source": [
    "leverage score "
   ]
  },
  {
   "cell_type": "code",
   "execution_count": 14,
   "metadata": {},
   "outputs": [],
   "source": [
    "# 計算杠桿分數 (leverage scores) hii\n",
    "# 計算帽子矩陣 H = X(X'X)^(-1)X'\n",
    "\n",
    "# 添加截距項(1)\n",
    "X_train_with_intercept = np.column_stack([np.ones(X_train.shape[0]), X_train])\n",
    "# 計算帽子矩陣 H = X(X'X)^(-1)X'\n",
    "hat_matrix = X_train_with_intercept @ np.linalg.inv(X_train_with_intercept.T @ X_train_with_intercept) @ X_train_with_intercept.T\n",
    "# 提取對角線元素(hii)\n",
    "leverage_scores = np.diag(hat_matrix) \n",
    "\n"
   ]
  },
  {
   "cell_type": "markdown",
   "metadata": {},
   "source": [
    "LOO predictioin difference "
   ]
  },
  {
   "cell_type": "code",
   "execution_count": 15,
   "metadata": {},
   "outputs": [],
   "source": [
    "n = X_train.shape[0]\n",
    "y_loo_pred = np.zeros(n)\n",
    "\n",
    "\n",
    "# 根據公式：ŷ(-i) = (yi - ŷi*hii)/(1-hii)\n",
    "for i in range(n):\n",
    "    if leverage_scores[i] != 1:  # 避免除以零\n",
    "        y_loo_pred[i] = (y_train[i] - y_pred_train[i] * leverage_scores[i]) / (1 - leverage_scores[i])\n",
    "    else:\n",
    "        y_loo_pred[i] = y_pred_train[i]  # 如果hii=1，使用原預測\n",
    "\n",
    "# 計算留一法預測差異 |ŷi - ŷ(-i)|\n",
    "y_loo_diff = np.abs(y_pred_train - y_loo_pred)"
   ]
  },
  {
   "cell_type": "code",
   "execution_count": null,
   "metadata": {},
   "outputs": [],
   "source": [
    "y_loo_diff.sort()  # 越後面會越大"
   ]
  },
  {
   "cell_type": "code",
   "execution_count": 19,
   "metadata": {},
   "outputs": [
    {
     "data": {
      "text/plain": [
       "array([0.45566303, 0.47624164, 0.51443754])"
      ]
     },
     "execution_count": 19,
     "metadata": {},
     "output_type": "execute_result"
    }
   ],
   "source": [
    "y_loo_diff[-3:]"
   ]
  },
  {
   "cell_type": "markdown",
   "metadata": {},
   "source": [
    "###  2. 報告統計量"
   ]
  },
  {
   "cell_type": "code",
   "execution_count": 20,
   "metadata": {},
   "outputs": [
    {
     "name": "stdout",
     "output_type": "stream",
     "text": [
      "\n",
      "杠桿分數(hii)統計量:\n",
      "最小值: 0.000019\n",
      "1%分位數: 0.000214\n",
      "25%分位數: 0.000378\n",
      "中位數: 0.000506\n",
      "75%分位數: 0.000769\n",
      "99%分位數: 0.021039\n",
      "最大值: 0.321815\n",
      "\n",
      "留一法預測差異(|ŷi - ŷ(-i)|)統計量:\n",
      "最小值: 0.000000\n",
      "1%分位數: 0.000347\n",
      "25%分位數: 0.008253\n",
      "中位數: 0.018340\n",
      "75%分位數: 0.034708\n",
      "99%分位數: 0.130517\n",
      "最大值: 0.514438\n",
      "----------------------------------------------------------------------------------------------------\n",
      "\n",
      "杠桿分數閾值 (2P/N): 0.002843\n",
      "杠桿分數超過閾值的觀測值數量: 1838\n"
     ]
    },
    {
     "data": {
      "image/png": "[encoded data removed]",
      "text/plain": [
       "<Figure size 2000x1200 with 2 Axes>"
      ]
     },
     "metadata": {},
     "output_type": "display_data"
    }
   ],
   "source": [
    "import warnings\n",
    "warnings.filterwarnings('ignore')\n",
    "\n",
    "\n",
    "print(\"\\n杠桿分數(hii)統計量:\")\n",
    "print(f\"最小值: {np.min(leverage_scores):.6f}\")\n",
    "print(f\"1%分位數: {np.percentile(leverage_scores, 1):.6f}\")\n",
    "print(f\"25%分位數: {np.percentile(leverage_scores, 25):.6f}\")\n",
    "print(f\"中位數: {np.percentile(leverage_scores, 50):.6f}\")\n",
    "print(f\"75%分位數: {np.percentile(leverage_scores, 75):.6f}\")\n",
    "print(f\"99%分位數: {np.percentile(leverage_scores, 99):.6f}\")\n",
    "print(f\"最大值: {np.max(leverage_scores):.6f}\")\n",
    "\n",
    "print(\"\\n留一法預測差異(|ŷi - ŷ(-i)|)統計量:\")\n",
    "print(f\"最小值: {np.min(y_loo_diff):.6f}\")\n",
    "print(f\"1%分位數: {np.percentile(y_loo_diff, 1):.6f}\")\n",
    "print(f\"25%分位數: {np.percentile(y_loo_diff, 25):.6f}\")\n",
    "print(f\"中位數: {np.percentile(y_loo_diff, 50):.6f}\")\n",
    "print(f\"75%分位數: {np.percentile(y_loo_diff, 75):.6f}\")\n",
    "print(f\"99%分位數: {np.percentile(y_loo_diff, 99):.6f}\")\n",
    "print(f\"最大值: {np.max(y_loo_diff):.6f}\")\n",
    "\n",
    "\n",
    "print(\"-\"*100)\n",
    "# 判斷是否有影響較大的觀測值\n",
    "p = X_train.shape[1]  # 預測變量數量\n",
    "threshold_leverage = 2 * p / n  # 杠桿分數閾值\n",
    "print(f\"\\n杠桿分數閾值 (2P/N): {threshold_leverage:.6f}\")\n",
    "influential_leverage = np.sum(leverage_scores > threshold_leverage)\n",
    "print(f\"杠桿分數超過閾值的觀測值數量: {influential_leverage}\")\n",
    "\n",
    "# 繪製杠桿分數和留一法預測差異的散點圖\n",
    "plt.figure(figsize=(20, 12))\n",
    "\n",
    "plt.subplot(1, 2, 1)\n",
    "plt.scatter(range(len(leverage_scores)), leverage_scores)\n",
    "plt.axhline(y=threshold_leverage, color='r', linestyle='-', label=f'threshold = {threshold_leverage:.4f}')\n",
    "plt.xlabel('index')\n",
    "plt.ylabel('leverage score(hii)')\n",
    "plt.title('leverage score distribution')\n",
    "plt.legend()\n",
    "\n",
    "plt.subplot(1, 2, 2)\n",
    "plt.scatter(range(len(y_loo_diff)), y_loo_diff)\n",
    "plt.xlabel('index')\n",
    "plt.ylabel('|ŷi - ŷ(-i)|')\n",
    "plt.title('loo difference distribution')\n",
    "\n",
    "plt.tight_layout()\n",
    "plt.show()\n",
    "\n"
   ]
  },
  {
   "cell_type": "markdown",
   "metadata": {},
   "source": [
    "### 3. 計算測試集RMSE"
   ]
  },
  {
   "cell_type": "code",
   "execution_count": 21,
   "metadata": {},
   "outputs": [
    {
     "name": "stdout",
     "output_type": "stream",
     "text": [
      "\n",
      "原始測試集RMSE: 0.0385\n"
     ]
    }
   ],
   "source": [
    "\n",
    "y_pred_test = model.predict(X_test)\n",
    "rmse_test = np.sqrt(mean_squared_error(y_test, y_pred_test))\n",
    "print(f\"\\n原始測試集RMSE: {rmse_test:.4f}\")\n",
    "\n"
   ]
  },
  {
   "cell_type": "markdown",
   "metadata": {},
   "source": [
    "### 4. 移除杠桿分數過高的觀測值並重新計算"
   ]
  },
  {
   "cell_type": "code",
   "execution_count": 22,
   "metadata": {},
   "outputs": [
    {
     "name": "stdout",
     "output_type": "stream",
     "text": [
      "\n",
      "移除高杠桿分數後的train RMSE: 0.0348\n",
      "移除高杠桿分數後的test RMSE: 0.0790\n",
      "RMSE test difference : 0.0405\n",
      "RMSE train difference : -0.0035\n"
     ]
    }
   ],
   "source": [
    "\n",
    "mask_leverage = leverage_scores <= threshold_leverage\n",
    "X_train_filtered = X_train[mask_leverage]\n",
    "y_train_filtered = y_train[mask_leverage]\n",
    "\n",
    "# 訓練新模型\n",
    "model_filtered = LinearRegression()\n",
    "model_filtered.fit(X_train_filtered, y_train_filtered)\n",
    "\n",
    "# 計算新訓練集RMSE\n",
    "y_pred_train_filtered = model_filtered.predict(X_train_filtered)\n",
    "rmse_train_filtered = np.sqrt(mean_squared_error(y_train_filtered, y_pred_train_filtered))\n",
    "print(f\"\\n移除高杠桿分數後的train RMSE: {rmse_train_filtered:.4f}\")\n",
    "\n",
    "# 計算新測試集RMSE\n",
    "y_pred_test_filtered = model_filtered.predict(X_test)\n",
    "rmse_test_filtered = np.sqrt(mean_squared_error(y_test, y_pred_test_filtered))\n",
    "print(f\"移除高杠桿分數後的test RMSE: {rmse_test_filtered:.4f}\")\n",
    "print(f\"RMSE test difference : {(rmse_test_filtered - rmse_test):.4f}\")\n",
    "print(f\"RMSE train difference : {(rmse_train_filtered - rmse_train):.4f}\")\n",
    "\n"
   ]
  },
  {
   "cell_type": "markdown",
   "metadata": {},
   "source": [
    "### 5. 移除留一法預測差異最大的三個觀測值並重新計算"
   ]
  },
  {
   "cell_type": "code",
   "execution_count": 23,
   "metadata": {},
   "outputs": [],
   "source": [
    "\n",
    "# 找出留一法預測差異最大的三個觀測值的索引\n",
    "top3_indices = np.argsort(y_loo_diff)[-3:]  # we need index not value\n",
    "mask_loo = np.ones(len(y_train), dtype=bool)\n",
    "mask_loo[top3_indices] = False\n",
    "\n",
    "X_train_filtered2 = X_train[mask_loo]\n",
    "y_train_filtered2 = y_train[mask_loo]\n",
    "\n"
   ]
  },
  {
   "cell_type": "code",
   "execution_count": 25,
   "metadata": {},
   "outputs": [
    {
     "name": "stdout",
     "output_type": "stream",
     "text": [
      "\n",
      "移除留一法預測差異最大的三個觀測值後的 train RMSE: 0.0383\n",
      "移除留一法預測差異最大的三個觀測值後的test RMSE: 0.0385\n",
      "test RMSE變化: 0.0000\n",
      "train RMSE變化: 0.0000\n"
     ]
    }
   ],
   "source": [
    "# 訓練新模型\n",
    "model_filtered2 = LinearRegression()\n",
    "model_filtered2.fit(X_train_filtered2, y_train_filtered2)\n",
    "\n",
    "# 計算新訓練集RMSE\n",
    "y_pred_train_filtered2 = model_filtered2.predict(X_train_filtered2)\n",
    "rmse_train_filtered2 = np.sqrt(mean_squared_error(y_train_filtered2, y_pred_train_filtered2))\n",
    "print(f\"\\n移除留一法預測差異最大的三個觀測值後的 train RMSE: {rmse_train_filtered2:.4f}\")\n",
    "\n",
    "# 計算新測試集RMSE\n",
    "y_pred_test_filtered2 = model_filtered2.predict(X_test)\n",
    "rmse_test_filtered2 = np.sqrt(mean_squared_error(y_test, y_pred_test_filtered2))\n",
    "print(f\"移除留一法預測差異最大的三個觀測值後的test RMSE: {rmse_test_filtered2:.4f}\")\n",
    "print(f\"test RMSE變化: {(rmse_test_filtered2 - rmse_test):.4f}\")\n",
    "print(f\"train RMSE變化: {(rmse_train_filtered2 - rmse_train):.4f}\")\n",
    "\n"
   ]
  },
  {
   "cell_type": "code",
   "execution_count": 26,
   "metadata": {},
   "outputs": [
    {
     "name": "stdout",
     "output_type": "stream",
     "text": [
      "\n",
      "模型比較:\n",
      "                  模型   訓練集RMSE   測試集RMSE\n",
      "0               原始模型  0.038307  0.038479\n",
      "1            移除高杠桿分數  0.034814  0.078989\n",
      "2  移除留一法預測差異最大的三個觀測值  0.038308  0.038480\n"
     ]
    }
   ],
   "source": [
    "# 結果比較\n",
    "results = pd.DataFrame({\n",
    "    '模型': ['原始模型', '移除高杠桿分數', '移除留一法預測差異最大的三個觀測值'],\n",
    "    '訓練集RMSE': [rmse_train, rmse_train_filtered, rmse_train_filtered2],\n",
    "    '測試集RMSE': [rmse_test, rmse_test_filtered, rmse_test_filtered2]\n",
    "})\n",
    "\n",
    "print(\"\\n模型比較:\")\n",
    "print(results)\n",
    "\n"
   ]
  },
  {
   "cell_type": "code",
   "execution_count": 29,
   "metadata": {},
   "outputs": [
    {
     "data": {
      "image/png": "[encoded data removed]",
      "text/plain": [
       "<Figure size 1000x600 with 1 Axes>"
      ]
     },
     "metadata": {},
     "output_type": "display_data"
    }
   ],
   "source": [
    "# 繪製結果比較圖\n",
    "plt.figure(figsize=(10, 6))\n",
    "bar_width = 0.35\n",
    "x = np.arange(3)\n",
    "\n",
    "plt.bar(x - bar_width/2, results['訓練集RMSE'], bar_width, label='train RMSE')\n",
    "plt.bar(x + bar_width/2, results['測試集RMSE'], bar_width, label='test RMSE')\n",
    "\n",
    "plt.xlabel('model')\n",
    "plt.ylabel('RMSE')\n",
    "plt.title('different model RMSE comparison')\n",
    "plt.xticks(x, ['original', 'remove high leverage score', 'remove loo difference\\nmax 3 values'])\n",
    "plt.legend()\n",
    "plt.tight_layout()\n",
    "plt.show()"
   ]
  },
  {
   "cell_type": "code",
   "execution_count": null,
   "metadata": {},
   "outputs": [],
   "source": []
  }
 ],
 "metadata": {
  "kernelspec": {
   "display_name": "Python 3",
   "language": "python",
   "name": "python3"
  },
  "language_info": {
   "codemirror_mode": {
    "name": "ipython",
    "version": 3
   },
   "file_extension": ".py",
   "mimetype": "text/x-python",
   "name": "python",
   "nbconvert_exporter": "python",
   "pygments_lexer": "ipython3",
   "version": "3.12.6"
  }
 },
 "nbformat": 4,
 "nbformat_minor": 2
}
